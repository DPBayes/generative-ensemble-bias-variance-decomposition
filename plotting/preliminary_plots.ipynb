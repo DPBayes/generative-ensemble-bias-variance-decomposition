{
 "cells": [
  {
   "cell_type": "code",
   "execution_count": null,
   "metadata": {},
   "outputs": [],
   "source": [
    "import numpy as np \n",
    "import pandas as pd \n",
    "from einops import rearrange, pack\n",
    "\n",
    "import matplotlib\n",
    "import matplotlib.pyplot as plt\n",
    "import seaborn as sns"
   ]
  },
  {
   "cell_type": "code",
   "execution_count": null,
   "metadata": {},
   "outputs": [],
   "source": [
    "plt.style.use(\"default\")\n",
    "matplotlib.rcParams['pdf.fonttype'] = 42\n",
    "matplotlib.rcParams['ps.fonttype'] = 42"
   ]
  },
  {
   "cell_type": "code",
   "execution_count": null,
   "metadata": {},
   "outputs": [],
   "source": [
    "result_dir = \"../results/preliminary-nondp/\"\n",
    "fig_dir = \"../figures/synthetic-data-algo-evaluation/\"\n",
    "df = pd.read_csv(result_dir + \"results.csv\", index_col=False)\n",
    "model_order = [\n",
    "    \"1-NN\", \"5-NN\", \"Decision Tree\", \"Random Forest\", \"MLP\", \"Gradient Boosting\", \n",
    "    \"SVM\", \"Ridge Regression\", \"Linear Regression\"\n",
    "]\n",
    "full_model_order = model_order.copy()\n",
    "model_order.remove(\"Linear Regression\")\n",
    "\n",
    "method_names = {\n",
    "    \"ddpm\": \"DDPM\",\n",
    "    \"ddpm-kl\": \"DDPM-KL\",\n",
    "    \"tvae\": \"TVAE\",\n",
    "    \"ctgan\": \"CTGAN\",\n",
    "    \"synthpop-proper\": \"SP-P\",\n",
    "    \"synthpop-improper\": \"SP-IP\"\n",
    "}\n",
    "df.method = df.method.apply(lambda m: method_names[m])\n",
    "\n",
    "real_data_df = pd.read_csv(result_dir + \"real-data-results.csv\", index_col=False)\n",
    "real_data_mses = real_data_df.groupby([\"model\"]).mean()\n",
    "real_data_mses = real_data_mses.reindex(model_order)\n",
    "real_data_mses"
   ]
  },
  {
   "cell_type": "code",
   "execution_count": null,
   "metadata": {},
   "outputs": [],
   "source": [
    "min_real_data_mse = real_data_mses.mse.iloc[real_data_mses.mse.argmin()]"
   ]
  },
  {
   "cell_type": "code",
   "execution_count": null,
   "metadata": {},
   "outputs": [],
   "source": [
    "group_df = df.groupby([\"model\", \"method\", \"n_syn_datasets\"], as_index=False).mean()\n",
    "group_df.iloc[group_df.mse.argmin()]"
   ]
  },
  {
   "cell_type": "code",
   "execution_count": null,
   "metadata": {},
   "outputs": [],
   "source": [
    "g = sns.FacetGrid(df, col=\"model\", col_order=model_order, col_wrap=4, aspect=1.2, height=2.5)\n",
    "g.map_dataframe(sns.barplot, x=\"method\", y=\"mse\", hue=\"n_syn_datasets\", palette=\"flare\")\n",
    "for i, mse in enumerate(real_data_mses.mse):\n",
    "    g.axes[i].axhline(mse, linestyle=\"dashed\", color=\"black\", label=\"Real Data\")\n",
    "    g.axes[i].axhline(min_real_data_mse, color=\"black\", label=\"Best Real Data\")\n",
    "for ax in g.axes:\n",
    "    ax.set_axisbelow(True)\n",
    "    ax.grid()\n",
    "g.set_xlabels(\"\")\n",
    "g.set_ylabels(\"MSE\")\n",
    "g.set_titles(\"{col_name}\", fontweight=\"bold\")\n",
    "g.set(ylim=(min_real_data_mse * 0.9, 0.2))\n",
    "g.tick_params(\"x\", labelrotation=45)\n",
    "full_legend_data = {\"m = {}\".format(label) if label in [\"1\", \"2\", \"5\", \"10\"] else label: handle for handle, label in zip(*g.axes[0].get_legend_handles_labels())}\n",
    "g.add_legend(full_legend_data, label_order=[\"m = 1\", \"m = 2\", \"m = 5\", \"m = 10\", \"Real Data\", \"Best Real Data\"], loc=\"upper center\", bbox_to_anchor=(0.32,-0.02), ncol=6)\n",
    "plt.savefig(fig_dir + \"generator-comparison.pdf\", bbox_inches=\"tight\")\n",
    "plt.show()"
   ]
  },
  {
   "cell_type": "code",
   "execution_count": null,
   "metadata": {},
   "outputs": [],
   "source": [
    "g = sns.FacetGrid(df, col=\"method\")\n",
    "g.map_dataframe(sns.barplot, x=\"model\", y=\"mse\", hue=\"n_syn_datasets\")\n",
    "g.tick_params(\"x\", labelrotation=90)\n",
    "g.add_legend()\n",
    "plt.show()"
   ]
  },
  {
   "cell_type": "code",
   "execution_count": null,
   "metadata": {},
   "outputs": [],
   "source": [
    "df.groupby([\"model\", \"method\", \"n_syn_datasets\"])[\"mse\"].mean().reset_index(\"n_syn_datasets\")"
   ]
  },
  {
   "cell_type": "code",
   "execution_count": null,
   "metadata": {},
   "outputs": [],
   "source": [
    "table = df.groupby([\"model\", \"method\", \"n_syn_datasets\"])[\"mse\"].aggregate([\"mean\", \"std\"])\n",
    "table[\"formatted\"] = table.apply(lambda row: \"{:.4f} $\\pm$ {:.4f}\".format(row[\"mean\"], row[\"std\"]), axis=1)\n",
    "table = table.reset_index(\"n_syn_datasets\").pivot(columns=\"n_syn_datasets\", values=\"formatted\")\n",
    "table.index.rename([\"Downstream\", \"Generator\"], inplace=True)\n",
    "table.columns.rename(\"m\", inplace=True)\n",
    "table = table.reindex(full_model_order, level=\"Downstream\", axis=\"index\")\n",
    "table"
   ]
  },
  {
   "cell_type": "code",
   "execution_count": null,
   "metadata": {},
   "outputs": [],
   "source": [
    "table.style.to_latex(fig_dir + \"generator-comparison-table.tex\", hrules=True, clines=\"skip-last;data\")"
   ]
  },
  {
   "cell_type": "code",
   "execution_count": null,
   "metadata": {},
   "outputs": [],
   "source": []
  }
 ],
 "metadata": {
  "kernelspec": {
   "display_name": "multiple-syn-datasets-ml-CFH753D6-py3.10",
   "language": "python",
   "name": "python3"
  },
  "language_info": {
   "codemirror_mode": {
    "name": "ipython",
    "version": 3
   },
   "file_extension": ".py",
   "mimetype": "text/x-python",
   "name": "python",
   "nbconvert_exporter": "python",
   "pygments_lexer": "ipython3",
   "version": "3.10.6"
  },
  "orig_nbformat": 4
 },
 "nbformat": 4,
 "nbformat_minor": 2
}
