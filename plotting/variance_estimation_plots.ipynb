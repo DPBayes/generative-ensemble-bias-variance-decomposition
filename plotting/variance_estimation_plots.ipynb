{
 "cells": [
  {
   "cell_type": "code",
   "execution_count": null,
   "metadata": {},
   "outputs": [],
   "source": [
    "import numpy as np \n",
    "import pandas as pd \n",
    "from einops import rearrange, pack\n",
    "import pickle\n",
    "\n",
    "import matplotlib\n",
    "import matplotlib.pyplot as plt\n",
    "import seaborn as sns"
   ]
  },
  {
   "cell_type": "code",
   "execution_count": null,
   "metadata": {},
   "outputs": [],
   "source": [
    "plt.style.use(\"default\")\n",
    "matplotlib.rcParams['pdf.fonttype'] = 42\n",
    "matplotlib.rcParams['ps.fonttype'] = 42"
   ]
  },
  {
   "cell_type": "code",
   "execution_count": null,
   "metadata": {},
   "outputs": [],
   "source": [
    "model_names = {\n",
    "    \"Logistic Regression\": \"LogR\",\n",
    "    \"Linear Regression\": \"LR\",\n",
    "    \"Ridge Regression\": \"RR\",\n",
    "    \"1-NN\": \"1-NN\",\n",
    "    \"5-NN\": \"5-NN\",\n",
    "    \"Decision Tree\": \"DT\",\n",
    "    \"Random Forest\": \"RF\",\n",
    "    \"Gradient Boosting\": \"GB\",\n",
    "    \"MLP\": \"MLP\",\n",
    "    \"SVM\": \"SVM\",\n",
    "}\n",
    "method_names = {\n",
    "    \"ddpm\": \"DDPM\",\n",
    "    \"synthpop-proper\": \"SP-P\",\n",
    "}\n",
    "classification_datasets = [\n",
    "    \"german-credit\", \n",
    "    \"adult\", \n",
    "    \"breast-cancer\",\n",
    "]\n",
    "regression_datasets = [\n",
    "    \"abalone\", \n",
    "    \"insurance\", \n",
    "    \"california-housing\", \n",
    "    \"ACS2018\"\n",
    "]\n",
    "datasets = regression_datasets + classification_datasets\n",
    "def dataset_type(dataset):\n",
    "    return \"classification\" if dataset in classification_datasets else \"regression\"\n",
    "\n",
    "n_repeats = 3 \n",
    "\n",
    "dfs = {}\n",
    "for dataset in datasets:\n",
    "    records = []\n",
    "    for repeat_ind in range(n_repeats):\n",
    "        for method in method_names.keys():\n",
    "            for model_name in model_names.keys():\n",
    "                if dataset_type(dataset) == \"classification\" and model_name in [\"Linear Regression\", \"Ridge Regression\"]: continue\n",
    "                if dataset_type(dataset) == \"regression\" and model_name == \"Logistic Regression\": continue\n",
    "\n",
    "                with open(\"../results/{}-datasets/variance-estimation/{}/{}_{}_{}.p\".format(dataset_type(dataset), dataset, method, model_name, repeat_ind), \"rb\") as file:\n",
    "                    obj = pickle.load(file)\n",
    "                    model_variances = obj[\"model_variances\"]\n",
    "                    synthetic_data_variances = obj[\"synthetic_data_variances\"]\n",
    "\n",
    "                    for variance in model_variances:\n",
    "                        records.append({\n",
    "                            \"dataset\": dataset,\n",
    "                            \"method\": method_names[method],\n",
    "                            \"repeat_ind\": repeat_ind,\n",
    "                            \"model\": model_names[model_name],\n",
    "                            \"variance_type\": \"MV\",\n",
    "                            \"value\": variance,\n",
    "                        })\n",
    "                    for variance in synthetic_data_variances:\n",
    "                        records.append({\n",
    "                            \"dataset\": dataset,\n",
    "                            \"method\": method_names[method],\n",
    "                            \"repeat_ind\": repeat_ind,\n",
    "                            \"model\": model_names[model_name],\n",
    "                            \"variance_type\": \"SDV\",\n",
    "                            \"value\": variance,\n",
    "                        })\n",
    "\n",
    "    df = pd.DataFrame.from_records(records)\n",
    "    dfs[dataset] = df\n",
    "\n",
    "classification_model_order = [\n",
    "    \"DT\", \"1-NN\", \"5-NN\", \"RF\", \"MLP\", \"GB\", \"SVM\", \"LogR\"\n",
    "]\n",
    "regression_model_order = [\n",
    "    \"DT\", \"1-NN\", \"5-NN\", \"RF\", \"MLP\", \"GB\", \"SVM\", \"LR\", \"RR\"\n",
    "]"
   ]
  },
  {
   "cell_type": "code",
   "execution_count": null,
   "metadata": {},
   "outputs": [],
   "source": [
    "# Remove extremely large variances for linear regression\n",
    "acs = dfs[\"ACS2018\"]\n",
    "dfs[\"ACS2018\"] = acs[(acs.model != \"LR\") | (acs.value < 1e6)]"
   ]
  },
  {
   "cell_type": "code",
   "execution_count": null,
   "metadata": {},
   "outputs": [],
   "source": [
    "dfs[\"german-credit\"]"
   ]
  },
  {
   "cell_type": "code",
   "execution_count": null,
   "metadata": {},
   "outputs": [],
   "source": [
    "figdir = \"../figures/variance-estimation/\"\n",
    "legend_names = {\n",
    "    \"MV\": \"Model Variance (MV)\",\n",
    "    \"SDV\": \"Synthetic Data Variance (SDV)\",\n",
    "}\n",
    "for dataset in datasets:\n",
    "    df = dfs[dataset]\n",
    "    mean_df = df.groupby([\"dataset\", \"method\", \"model\", \"repeat_ind\", \"variance_type\"], as_index=False).mean()\n",
    "    print(dataset)\n",
    "\n",
    "    g = sns.FacetGrid(mean_df, col=\"method\", aspect=1.2, height=2.5)\n",
    "    # g.figure.suptitle(dataset)\n",
    "    g.map_dataframe(\n",
    "        sns.stripplot, x=\"model\", y=\"value\", \n",
    "        order=classification_model_order if dataset in classification_datasets else regression_model_order, \n",
    "        hue=\"variance_type\", palette={\"MV\": \"C0\", \"SDV\": \"C1\"}\n",
    "    )\n",
    "    g.tick_params(\"x\", labelrotation=45)\n",
    "    g.set_ylabels(\"Variance\")\n",
    "    g.set_xlabels(\"\")\n",
    "    g.set_titles(\"{col_name}\")\n",
    "    g._legend_data = {legend_names[name]: artist for name, artist in g._legend_data.items()}\n",
    "    g.add_legend(loc=\"upper right\", bbox_to_anchor=(0.53, 0.05), ncol=2)\n",
    "    for ax in g.axes.flatten():\n",
    "        ax.grid()\n",
    "\n",
    "    plt.savefig(figdir + \"{}.pdf\".format(dataset), bbox_inches=\"tight\")\n",
    "    plt.show()"
   ]
  },
  {
   "cell_type": "code",
   "execution_count": null,
   "metadata": {},
   "outputs": [],
   "source": []
  }
 ],
 "metadata": {
  "kernelspec": {
   "display_name": "multiple-syn-datasets-ml-CFH753D6-py3.10",
   "language": "python",
   "name": "python3"
  },
  "language_info": {
   "codemirror_mode": {
    "name": "ipython",
    "version": 3
   },
   "file_extension": ".py",
   "mimetype": "text/x-python",
   "name": "python",
   "nbconvert_exporter": "python",
   "pygments_lexer": "ipython3",
   "version": "3.10.6"
  },
  "orig_nbformat": 4
 },
 "nbformat": 4,
 "nbformat_minor": 2
}
